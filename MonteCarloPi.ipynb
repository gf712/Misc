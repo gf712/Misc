{
 "cells": [
  {
   "cell_type": "markdown",
   "metadata": {},
   "source": [
    "## Short demonstration of how to perform Monte Carlo approximation of PI with Python 3.5"
   ]
  },
  {
   "cell_type": "markdown",
   "metadata": {},
   "source": [
    "## I also show three different approaches (loop, vectorized and recursive) and try to find the quickest. In addition I want to see if it is possible to speed up the code even more using the @jit decorator, which you can get from the numba package"
   ]
  },
  {
   "cell_type": "code",
   "execution_count": 1,
   "metadata": {
    "collapsed": false
   },
   "outputs": [],
   "source": [
    "import numpy as np\n",
    "import random\n",
    "from numba import jit\n",
    "import platform"
   ]
  },
  {
   "cell_type": "code",
   "execution_count": 2,
   "metadata": {
    "collapsed": false
   },
   "outputs": [
    {
     "data": {
      "text/plain": [
       "uname_result(system='Linux', node='gil-Inspiron-7559', release='4.4.0-21-generic', version='#37-Ubuntu SMP Mon Apr 18 18:33:37 UTC 2016', machine='x86_64', processor='x86_64')"
      ]
     },
     "execution_count": 2,
     "metadata": {},
     "output_type": "execute_result"
    }
   ],
   "source": [
    "platform.uname()"
   ]
  },
  {
   "cell_type": "code",
   "execution_count": 3,
   "metadata": {
    "collapsed": true
   },
   "outputs": [],
   "source": [
    "def monteCarloPi(iterations):\n",
    "    count = 0\n",
    "    for i in range(iterations):\n",
    "        x = random.uniform(0.,1.)\n",
    "        y = random.uniform(0.,1.)\n",
    "        dist = (x**2 + y**2)**.5\n",
    "        if dist <= 1:\n",
    "            count+=1\n",
    "    return count/iterations * 4"
   ]
  },
  {
   "cell_type": "code",
   "execution_count": 4,
   "metadata": {
    "collapsed": false
   },
   "outputs": [
    {
     "data": {
      "text/plain": [
       "3.140072"
      ]
     },
     "execution_count": 4,
     "metadata": {},
     "output_type": "execute_result"
    }
   ],
   "source": [
    "monteCarloPi(1000000)"
   ]
  },
  {
   "cell_type": "code",
   "execution_count": 5,
   "metadata": {
    "collapsed": true
   },
   "outputs": [],
   "source": [
    "@jit\n",
    "def monteCarloPiJit(iterations):\n",
    "    count = 0\n",
    "    for i in range(iterations):\n",
    "        x = random.uniform(0.,1.)\n",
    "        y = random.uniform(0.,1.)\n",
    "        dist = (x**2 + y**2)**.5\n",
    "        if dist <= 1:\n",
    "            count+=1\n",
    "    return count/iterations * 4"
   ]
  },
  {
   "cell_type": "code",
   "execution_count": 6,
   "metadata": {
    "collapsed": true
   },
   "outputs": [],
   "source": [
    "def monteCarloPiNp(iterations):\n",
    "    x = np.random.rand(iterations)\n",
    "    y = np.random.rand(iterations)\n",
    "    dist = (x**2 + y**2)**.5\n",
    "    count = (dist <= 1).sum()\n",
    "    return count/iterations * 4"
   ]
  },
  {
   "cell_type": "code",
   "execution_count": 7,
   "metadata": {
    "collapsed": true
   },
   "outputs": [],
   "source": [
    "@jit\n",
    "def monteCarloPiNpJit(iterations):\n",
    "    x = np.random.rand(iterations)\n",
    "    y = np.random.rand(iterations)\n",
    "    dist = (x**2 + y**2)**.5\n",
    "    count = (dist <= 1).sum()\n",
    "    return count/iterations * 4"
   ]
  },
  {
   "cell_type": "markdown",
   "metadata": {
    "collapsed": false
   },
   "source": [
    "### I wasn't able to use @jit with global variables, as it returns an error saying it is not implemented.. Not quite sure why this is the case, I will have to read more on JIT!"
   ]
  },
  {
   "cell_type": "code",
   "execution_count": 9,
   "metadata": {
    "collapsed": false
   },
   "outputs": [],
   "source": [
    "def monteCarloPiRecursive(iterations, first=True):\n",
    "    if first:\n",
    "        global count\n",
    "        count = 0\n",
    "        global iterations_total\n",
    "        iterations_total = iterations\n",
    "    if iterations == 0:\n",
    "        return count/iterations_total*4\n",
    "    else:\n",
    "        x = random.uniform(0.,1.)\n",
    "        y = random.uniform(0.,1.)\n",
    "        dist = (x**2 + y**2)**.5\n",
    "        if dist <= 1:\n",
    "            count+=1\n",
    "        return monteCarloPiRecursive(iterations-1,first=False)"
   ]
  },
  {
   "cell_type": "markdown",
   "metadata": {},
   "source": [
    "### Loop"
   ]
  },
  {
   "cell_type": "code",
   "execution_count": 10,
   "metadata": {
    "collapsed": false
   },
   "outputs": [
    {
     "name": "stdout",
     "output_type": "stream",
     "text": [
      "1000 loops, best of 10: 11.2 ms per loop\n"
     ]
    }
   ],
   "source": [
    "%%timeit -n 1000 -r 10\n",
    "monteCarloPi(10000)"
   ]
  },
  {
   "cell_type": "code",
   "execution_count": 11,
   "metadata": {
    "collapsed": false
   },
   "outputs": [
    {
     "name": "stdout",
     "output_type": "stream",
     "text": [
      "1000 loops, best of 10: 323 µs per loop\n"
     ]
    }
   ],
   "source": [
    "%%timeit -n 1000 -r 10\n",
    "monteCarloPiJit(10000)"
   ]
  },
  {
   "cell_type": "markdown",
   "metadata": {},
   "source": [
    "### Numpy"
   ]
  },
  {
   "cell_type": "code",
   "execution_count": 12,
   "metadata": {
    "collapsed": false
   },
   "outputs": [
    {
     "name": "stdout",
     "output_type": "stream",
     "text": [
      "1000 loops, best of 10: 286 µs per loop\n"
     ]
    }
   ],
   "source": [
    "%%timeit -n 1000 -r 10\n",
    "monteCarloPiNp(10000)"
   ]
  },
  {
   "cell_type": "code",
   "execution_count": 13,
   "metadata": {
    "collapsed": false
   },
   "outputs": [
    {
     "name": "stdout",
     "output_type": "stream",
     "text": [
      "1000 loops, best of 10: 172 µs per loop\n"
     ]
    }
   ],
   "source": [
    "%%timeit -n 1000 -r 10\n",
    "monteCarloPiNpJit(10000)"
   ]
  },
  {
   "cell_type": "markdown",
   "metadata": {},
   "source": [
    "### Recursive"
   ]
  },
  {
   "cell_type": "code",
   "execution_count": 14,
   "metadata": {
    "collapsed": true
   },
   "outputs": [],
   "source": [
    "# need to increase the recursion limit  (default is 1000)\n",
    "# this is just to have comparable tests and is definitely not recommended \n",
    "# also I put it at 15000 just as (big) margin as I had error earlier when I would\n",
    "# set the limit to something only slightly higher than the number of iterations/recursions\n",
    "import sys\n",
    "sys.setrecursionlimit(15000)"
   ]
  },
  {
   "cell_type": "code",
   "execution_count": 15,
   "metadata": {
    "collapsed": false
   },
   "outputs": [
    {
     "name": "stdout",
     "output_type": "stream",
     "text": [
      "1000 loops, best of 10: 16.9 ms per loop\n"
     ]
    }
   ],
   "source": [
    "%%timeit -n 1000 -r 10\n",
    "monteCarloPiRecursive(10000)"
   ]
  },
  {
   "cell_type": "markdown",
   "metadata": {},
   "source": [
    "### Looks like in this case the recursive algorithm is slower than using a loop and that the numpy implementation is the clear winner\n",
    "### This is also seems to be one of those occasions where using the @jit decorator improves the performance of code with numpy arrays, but even more interest  is the fact that it improves the performance of the loop by almost two orders of magnitude!"
   ]
  },
  {
   "cell_type": "code",
   "execution_count": 16,
   "metadata": {
    "collapsed": false
   },
   "outputs": [],
   "source": [
    "import matplotlib.pyplot as plt\n",
    "%matplotlib inline"
   ]
  },
  {
   "cell_type": "code",
   "execution_count": 17,
   "metadata": {
    "collapsed": false
   },
   "outputs": [],
   "source": [
    "pi_values = []\n",
    "for x in np.logspace(0,8,num=100):\n",
    "    pi_values.append(monteCarloPiNpJit(x))"
   ]
  },
  {
   "cell_type": "code",
   "execution_count": 18,
   "metadata": {
    "collapsed": true
   },
   "outputs": [],
   "source": [
    "import math"
   ]
  },
  {
   "cell_type": "code",
   "execution_count": 20,
   "metadata": {
    "collapsed": false
   },
   "outputs": [
    {
     "data": {
      "image/png": "[encoded data removed]",
      "text/plain": [
       "<matplotlib.figure.Figure at 0x7fc050d7fda0>"
      ]
     },
     "metadata": {},
     "output_type": "display_data"
    }
   ],
   "source": [
    "plt.figure(figsize=(10,10))\n",
    "plt.title('Monte Carlo $\\pi$ Estimation', size=22)\n",
    "plt.semilogx(np.logspace(0,8,num=100),pi_values,c='k',label='Estimation')\n",
    "plt.axhline(math.pi, linestyle='--',c='r',label='Math Package')\n",
    "plt.xlabel('Number of iterations', size=16)\n",
    "plt.ylabel('$\\pi$ Value', size=16)\n",
    "plt.legend()\n",
    "plt.show()"
   ]
  },
  {
   "cell_type": "markdown",
   "metadata": {
    "collapsed": true
   },
   "source": [
    "### Using the fastest code we can quickly then get an estimation of pi over number of iterations and we can see that after some 5000 iterations we should get a pretty reasonable result!"
   ]
  },
  {
   "cell_type": "code",
   "execution_count": null,
   "metadata": {
    "collapsed": true
   },
   "outputs": [],
   "source": []
  }
 ],
 "metadata": {
  "kernelspec": {
   "display_name": "Python 3",
   "language": "python",
   "name": "python3"
  },
  "language_info": {
   "codemirror_mode": {
    "name": "ipython",
    "version": 3
   },
   "file_extension": ".py",
   "mimetype": "text/x-python",
   "name": "python",
   "nbconvert_exporter": "python",
   "pygments_lexer": "ipython3",
   "version": "3.5.2"
  }
 },
 "nbformat": 4,
 "nbformat_minor": 0
}
