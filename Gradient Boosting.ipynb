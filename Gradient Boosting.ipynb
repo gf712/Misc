{
 "cells": [
  {
   "cell_type": "code",
   "execution_count": 2,
   "metadata": {
    "collapsed": false
   },
   "outputs": [
    {
     "name": "stderr",
     "output_type": "stream",
     "text": [
      "/Users/gilhoben/anaconda3/lib/python3.5/site-packages/sklearn/cross_validation.py:44: DeprecationWarning: This module was deprecated in version 0.18 in favor of the model_selection module into which all the refactored classes and functions are moved. Also note that the interface of the new CV iterators are different from that of this module. This module will be removed in 0.20.\n",
      "  \"This module will be removed in 0.20.\", DeprecationWarning)\n",
      "/Users/gilhoben/anaconda3/lib/python3.5/site-packages/sklearn/grid_search.py:43: DeprecationWarning: This module was deprecated in version 0.18 in favor of the model_selection module into which all the refactored classes and functions are moved. This module will be removed in 0.20.\n",
      "  DeprecationWarning)\n"
     ]
    }
   ],
   "source": [
    "import pandas as pd\n",
    "import numpy as np\n",
    "import xgboost as xgb\n",
    "from xgboost.sklearn import XGBRegressor\n",
    "from sklearn.metrics import make_scorer, mean_absolute_error\n",
    "from sklearn.grid_search import RandomizedSearchCV\n",
    "from sklearn.preprocessing import StandardScaler\n",
    "from sklearn.pipeline import Pipeline\n",
    "from sklearn.model_selection import train_test_split\n",
    "from sklearn.feature_selection import SelectFromModel\n",
    "from scipy import stats\n",
    "from sklearn.linear_model import ElasticNet"
   ]
  },
  {
   "cell_type": "code",
   "execution_count": 3,
   "metadata": {
    "collapsed": false
   },
   "outputs": [
    {
     "name": "stdout",
     "output_type": "stream",
     "text": [
      "Size of train set: 150655\n",
      "Size of validation set: 37663\n"
     ]
    }
   ],
   "source": [
    "train = pd.read_csv('./train.csv')\n",
    "cont = np.array([x.startswith('cont') for x in train.columns])\n",
    "sc = StandardScaler()\n",
    "train.ix[:,cont] = sc.fit_transform(train.ix[:,cont])\n",
    "trainOHE = pd.get_dummies(train)\n",
    "validation_set, train_set = train_test_split(trainOHE, test_size=.8)\n",
    "print('Size of train set: {}'.format(len(train_set)))\n",
    "print('Size of validation set: {}'.format(len(validation_set)))"
   ]
  },
  {
   "cell_type": "code",
   "execution_count": 4,
   "metadata": {
    "collapsed": true
   },
   "outputs": [],
   "source": [
    "trainStd_X = trainOHE.ix[:,np.logical_and(trainOHE.columns!='id', trainOHE.columns!='loss')]\n",
    "train_y = trainOHE.ix[:,trainOHE.columns=='loss']\n",
    "validation_std_X = validation_set.ix[:,np.logical_and(trainOHE.columns!='id', trainOHE.columns!='loss')]\n",
    "validation_y = validation_set.ix[:,trainOHE.columns=='loss']"
   ]
  },
  {
   "cell_type": "code",
   "execution_count": 57,
   "metadata": {
    "collapsed": true
   },
   "outputs": [],
   "source": [
    "# parameters\n",
    "eta = stats.distributions.uniform(loc=.01, scale=.2)\n",
    "min_child_weight = stats.randint(low=1,high=10)\n",
    "alphas = np.logspace(-6,1,num=100)\n",
    "depth = stats.randint(low=2, high=15)\n",
    "n_estimators = stats.randint(75,300)\n",
    "\n",
    "#param dict\n",
    "param_distribution = {'max_depth': depth,\n",
    "                      'learning_rate': eta,\n",
    "                      'n_estimators':n_estimators,\n",
    "                      'reg_alpha':alphas,\n",
    "                      'min_child_weight': min_child_weight}"
   ]
  },
  {
   "cell_type": "code",
   "execution_count": 6,
   "metadata": {
    "collapsed": true
   },
   "outputs": [],
   "source": [
    "scoring = make_scorer(mean_absolute_error)"
   ]
  },
  {
   "cell_type": "code",
   "execution_count": 59,
   "metadata": {
    "collapsed": false
   },
   "outputs": [],
   "source": [
    "boostingRandCV = RandomizedSearchCV(XGBRegressor(nthread=1),param_distributions=param_distribution,\n",
    "                                    n_jobs=-2, verbose=4,n_iter=20,scoring=scoring)"
   ]
  },
  {
   "cell_type": "code",
   "execution_count": 60,
   "metadata": {
    "collapsed": false,
    "scrolled": true
   },
   "outputs": [
    {
     "name": "stdout",
     "output_type": "stream",
     "text": [
      "Fitting 3 folds for each of 20 candidates, totalling 60 fits\n",
      "[CV] min_child_weight=9, max_depth=11, reg_alpha=5.09413801482e-06, learning_rate=0.18029888001, n_estimators=124 \n",
      "[CV] min_child_weight=9, max_depth=11, reg_alpha=5.09413801482e-06, learning_rate=0.18029888001, n_estimators=124 \n",
      "[CV] min_child_weight=9, max_depth=11, reg_alpha=5.09413801482e-06, learning_rate=0.18029888001, n_estimators=124 \n",
      "[CV]  min_child_weight=9, max_depth=11, reg_alpha=5.09413801482e-06, learning_rate=0.18029888001, n_estimators=124, score=1203.754056 -52.4min\n",
      "[CV]  min_child_weight=9, max_depth=11, reg_alpha=5.09413801482e-06, learning_rate=0.18029888001, n_estimators=124, score=1204.679183 -52.4min\n",
      "[CV] min_child_weight=5, max_depth=10, reg_alpha=0.000351119173422, learning_rate=0.156458181444, n_estimators=147 \n",
      "[CV] min_child_weight=5, max_depth=10, reg_alpha=0.000351119173422, learning_rate=0.156458181444, n_estimators=147 \n",
      "[CV]  min_child_weight=9, max_depth=11, reg_alpha=5.09413801482e-06, learning_rate=0.18029888001, n_estimators=124, score=1197.970108 -52.8min\n",
      "[CV] min_child_weight=5, max_depth=10, reg_alpha=0.000351119173422, learning_rate=0.156458181444, n_estimators=147 \n",
      "[CV]  min_child_weight=5, max_depth=10, reg_alpha=0.000351119173422, learning_rate=0.156458181444, n_estimators=147, score=1202.053349 -89.4min\n",
      "[CV]  min_child_weight=5, max_depth=10, reg_alpha=0.000351119173422, learning_rate=0.156458181444, n_estimators=147, score=1197.388170 -89.4min\n",
      "[CV] min_child_weight=6, max_depth=8, reg_alpha=3.05385550883e-05, learning_rate=0.187090131951, n_estimators=280 \n",
      "[CV] min_child_weight=6, max_depth=8, reg_alpha=3.05385550883e-05, learning_rate=0.187090131951, n_estimators=280 \n",
      "[CV]  min_child_weight=5, max_depth=10, reg_alpha=0.000351119173422, learning_rate=0.156458181444, n_estimators=147, score=1193.330871 -89.3min\n",
      "[CV] min_child_weight=6, max_depth=8, reg_alpha=3.05385550883e-05, learning_rate=0.187090131951, n_estimators=280 \n",
      "[CV]  min_child_weight=6, max_depth=8, reg_alpha=3.05385550883e-05, learning_rate=0.187090131951, n_estimators=280, score=1198.955923 -67.4min\n",
      "[CV] min_child_weight=1, max_depth=9, reg_alpha=2.5950242114e-05, learning_rate=0.124785008161, n_estimators=183 \n",
      "[CV]  min_child_weight=6, max_depth=8, reg_alpha=3.05385550883e-05, learning_rate=0.187090131951, n_estimators=280, score=1200.991895 -67.7min\n",
      "[CV] min_child_weight=1, max_depth=9, reg_alpha=2.5950242114e-05, learning_rate=0.124785008161, n_estimators=183 \n",
      "[CV]  min_child_weight=6, max_depth=8, reg_alpha=3.05385550883e-05, learning_rate=0.187090131951, n_estimators=280, score=1199.053366 -67.9min\n",
      "[CV] min_child_weight=1, max_depth=9, reg_alpha=2.5950242114e-05, learning_rate=0.124785008161, n_estimators=183 \n",
      "[CV]  min_child_weight=1, max_depth=9, reg_alpha=2.5950242114e-05, learning_rate=0.124785008161, n_estimators=183, score=1194.773295 -47.2min\n",
      "[CV] min_child_weight=2, max_depth=4, reg_alpha=0.170735264747, learning_rate=0.0865601101741, n_estimators=251 \n",
      "[CV]  min_child_weight=1, max_depth=9, reg_alpha=2.5950242114e-05, learning_rate=0.124785008161, n_estimators=183, score=1190.708027 -47.2min\n",
      "[CV] min_child_weight=2, max_depth=4, reg_alpha=0.170735264747, learning_rate=0.0865601101741, n_estimators=251 \n",
      "[CV]  min_child_weight=1, max_depth=9, reg_alpha=2.5950242114e-05, learning_rate=0.124785008161, n_estimators=183, score=1190.123177 -47.4min\n",
      "[CV] min_child_weight=2, max_depth=4, reg_alpha=0.170735264747, learning_rate=0.0865601101741, n_estimators=251 \n",
      "[CV]  min_child_weight=2, max_depth=4, reg_alpha=0.170735264747, learning_rate=0.0865601101741, n_estimators=251, score=1202.294324 -44.2min\n",
      "[CV] min_child_weight=8, max_depth=7, reg_alpha=1.17681195243e-06, learning_rate=0.0690921151719, n_estimators=269 \n",
      "[CV]  min_child_weight=2, max_depth=4, reg_alpha=0.170735264747, learning_rate=0.0865601101741, n_estimators=251, score=1207.670149 -44.7min\n",
      "[CV] min_child_weight=8, max_depth=7, reg_alpha=1.17681195243e-06, learning_rate=0.0690921151719, n_estimators=269 \n",
      "[CV]  min_child_weight=2, max_depth=4, reg_alpha=0.170735264747, learning_rate=0.0865601101741, n_estimators=251, score=1203.130636 -44.4min\n",
      "[CV] min_child_weight=8, max_depth=7, reg_alpha=1.17681195243e-06, learning_rate=0.0690921151719, n_estimators=269 \n",
      "[CV]  min_child_weight=8, max_depth=7, reg_alpha=1.17681195243e-06, learning_rate=0.0690921151719, n_estimators=269, score=1189.971589 -60.1min\n",
      "[CV] min_child_weight=8, max_depth=12, reg_alpha=1.38488637139e-06, learning_rate=0.0928990888881, n_estimators=237 \n",
      "[CV]  min_child_weight=8, max_depth=7, reg_alpha=1.17681195243e-06, learning_rate=0.0690921151719, n_estimators=269, score=1185.510059 -60.5min\n",
      "[CV] min_child_weight=8, max_depth=12, reg_alpha=1.38488637139e-06, learning_rate=0.0928990888881, n_estimators=237 \n",
      "[CV]  min_child_weight=8, max_depth=7, reg_alpha=1.17681195243e-06, learning_rate=0.0690921151719, n_estimators=269, score=1187.954828 -60.9min\n",
      "[CV] min_child_weight=8, max_depth=12, reg_alpha=1.38488637139e-06, learning_rate=0.0928990888881, n_estimators=237 \n",
      "[CV]  min_child_weight=8, max_depth=12, reg_alpha=1.38488637139e-06, learning_rate=0.0928990888881, n_estimators=237, score=1195.250608 -73.1min\n"
     ]
    },
    {
     "name": "stderr",
     "output_type": "stream",
     "text": [
      "[Parallel(n_jobs=-2)]: Done  19 tasks      | elapsed: 434.2min\n"
     ]
    },
    {
     "name": "stdout",
     "output_type": "stream",
     "text": [
      "[CV] min_child_weight=1, max_depth=13, reg_alpha=0.104761575279, learning_rate=0.10231658606, n_estimators=237 \n",
      "[CV]  min_child_weight=8, max_depth=12, reg_alpha=1.38488637139e-06, learning_rate=0.0928990888881, n_estimators=237, score=1192.445641 -73.4min\n",
      "[CV]  min_child_weight=8, max_depth=12, reg_alpha=1.38488637139e-06, learning_rate=0.0928990888881, n_estimators=237, score=1189.701302 -72.5min\n",
      "[CV] min_child_weight=1, max_depth=13, reg_alpha=0.104761575279, learning_rate=0.10231658606, n_estimators=237 \n",
      "[CV] min_child_weight=1, max_depth=13, reg_alpha=0.104761575279, learning_rate=0.10231658606, n_estimators=237 \n",
      "[CV]  min_child_weight=1, max_depth=13, reg_alpha=0.104761575279, learning_rate=0.10231658606, n_estimators=237, score=1207.137529 -86.0min\n",
      "[CV] min_child_weight=9, max_depth=7, reg_alpha=0.123284673944, learning_rate=0.0642330911099, n_estimators=243 \n",
      "[CV]  min_child_weight=1, max_depth=13, reg_alpha=0.104761575279, learning_rate=0.10231658606, n_estimators=237, score=1197.985634 -86.9min\n",
      "[CV]  min_child_weight=1, max_depth=13, reg_alpha=0.104761575279, learning_rate=0.10231658606, n_estimators=237, score=1205.480541 -86.9min\n",
      "[CV] min_child_weight=9, max_depth=7, reg_alpha=0.123284673944, learning_rate=0.0642330911099, n_estimators=243 \n",
      "[CV] min_child_weight=9, max_depth=7, reg_alpha=0.123284673944, learning_rate=0.0642330911099, n_estimators=243 \n",
      "[CV]  min_child_weight=9, max_depth=7, reg_alpha=0.123284673944, learning_rate=0.0642330911099, n_estimators=243, score=1191.248854 -61.3min\n",
      "[CV] min_child_weight=8, max_depth=4, reg_alpha=3.5938136638e-05, learning_rate=0.121774592487, n_estimators=189 \n",
      "[CV]  min_child_weight=9, max_depth=7, reg_alpha=0.123284673944, learning_rate=0.0642330911099, n_estimators=243, score=1188.439957 -61.1min\n",
      "[CV] min_child_weight=8, max_depth=4, reg_alpha=3.5938136638e-05, learning_rate=0.121774592487, n_estimators=189 \n",
      "[CV]  min_child_weight=9, max_depth=7, reg_alpha=0.123284673944, learning_rate=0.0642330911099, n_estimators=243, score=1187.895791 -61.4min\n",
      "[CV] min_child_weight=8, max_depth=4, reg_alpha=3.5938136638e-05, learning_rate=0.121774592487, n_estimators=189 \n",
      "[CV]  min_child_weight=8, max_depth=4, reg_alpha=3.5938136638e-05, learning_rate=0.121774592487, n_estimators=189, score=1205.106394 -33.4min\n",
      "[CV] min_child_weight=7, max_depth=12, reg_alpha=4.97702356433e-05, learning_rate=0.0981093048697, n_estimators=194 \n",
      "[CV]  min_child_weight=8, max_depth=4, reg_alpha=3.5938136638e-05, learning_rate=0.121774592487, n_estimators=189, score=1202.770377 -33.7min\n",
      "[CV] min_child_weight=7, max_depth=12, reg_alpha=4.97702356433e-05, learning_rate=0.0981093048697, n_estimators=194 \n",
      "[CV]  min_child_weight=8, max_depth=4, reg_alpha=3.5938136638e-05, learning_rate=0.121774592487, n_estimators=189, score=1203.970684 -33.8min\n",
      "[CV] min_child_weight=7, max_depth=12, reg_alpha=4.97702356433e-05, learning_rate=0.0981093048697, n_estimators=194 \n",
      "[CV]  min_child_weight=7, max_depth=12, reg_alpha=4.97702356433e-05, learning_rate=0.0981093048697, n_estimators=194, score=1197.077798 -59.8min\n",
      "[CV] min_child_weight=7, max_depth=4, reg_alpha=0.000155567614393, learning_rate=0.0954855069655, n_estimators=265 \n",
      "[CV]  min_child_weight=7, max_depth=12, reg_alpha=4.97702356433e-05, learning_rate=0.0981093048697, n_estimators=194, score=1194.575284 -59.6min\n",
      "[CV] min_child_weight=7, max_depth=4, reg_alpha=0.000155567614393, learning_rate=0.0954855069655, n_estimators=265 \n",
      "[CV]  min_child_weight=7, max_depth=12, reg_alpha=4.97702356433e-05, learning_rate=0.0981093048697, n_estimators=194, score=1189.956275 -60.5min\n",
      "[CV] min_child_weight=7, max_depth=4, reg_alpha=0.000155567614393, learning_rate=0.0954855069655, n_estimators=265 \n",
      "[CV]  min_child_weight=7, max_depth=4, reg_alpha=0.000155567614393, learning_rate=0.0954855069655, n_estimators=265, score=1204.192040 -53.3min\n",
      "[CV] min_child_weight=8, max_depth=14, reg_alpha=2.31012970008, learning_rate=0.0826879985166, n_estimators=91 \n",
      "[CV]  min_child_weight=7, max_depth=4, reg_alpha=0.000155567614393, learning_rate=0.0954855069655, n_estimators=265, score=1199.944737 -53.7min\n",
      "[CV] min_child_weight=8, max_depth=14, reg_alpha=2.31012970008, learning_rate=0.0826879985166, n_estimators=91 \n",
      "[CV]  min_child_weight=7, max_depth=4, reg_alpha=0.000155567614393, learning_rate=0.0954855069655, n_estimators=265, score=1201.427685 -53.7min\n",
      "[CV] min_child_weight=8, max_depth=14, reg_alpha=2.31012970008, learning_rate=0.0826879985166, n_estimators=91 \n",
      "[CV]  min_child_weight=8, max_depth=14, reg_alpha=2.31012970008, learning_rate=0.0826879985166, n_estimators=91, score=1201.753868 -35.9min\n",
      "[CV] min_child_weight=4, max_depth=12, reg_alpha=6.13590727341, learning_rate=0.0891462097604, n_estimators=124 \n",
      "[CV]  min_child_weight=8, max_depth=14, reg_alpha=2.31012970008, learning_rate=0.0826879985166, n_estimators=91, score=1200.027112 -35.6min\n",
      "[CV] min_child_weight=4, max_depth=12, reg_alpha=6.13590727341, learning_rate=0.0891462097604, n_estimators=124 \n",
      "[CV]  min_child_weight=8, max_depth=14, reg_alpha=2.31012970008, learning_rate=0.0826879985166, n_estimators=91, score=1197.715405 -35.4min\n",
      "[CV] min_child_weight=4, max_depth=12, reg_alpha=6.13590727341, learning_rate=0.0891462097604, n_estimators=124 \n",
      "[CV]  min_child_weight=4, max_depth=12, reg_alpha=6.13590727341, learning_rate=0.0891462097604, n_estimators=124, score=1198.910775 -41.4min\n",
      "[CV] min_child_weight=7, max_depth=4, reg_alpha=1.0235310219, learning_rate=0.0839097543878, n_estimators=226 \n",
      "[CV]  min_child_weight=4, max_depth=12, reg_alpha=6.13590727341, learning_rate=0.0891462097604, n_estimators=124, score=1195.099172 -41.2min\n",
      "[CV] min_child_weight=7, max_depth=4, reg_alpha=1.0235310219, learning_rate=0.0839097543878, n_estimators=226 \n",
      "[CV]  min_child_weight=4, max_depth=12, reg_alpha=6.13590727341, learning_rate=0.0891462097604, n_estimators=124, score=1190.475260 -41.7min\n",
      "[CV] min_child_weight=7, max_depth=4, reg_alpha=1.0235310219, learning_rate=0.0839097543878, n_estimators=226 \n",
      "[CV]  min_child_weight=7, max_depth=4, reg_alpha=1.0235310219, learning_rate=0.0839097543878, n_estimators=226, score=1208.182900 -40.4min\n",
      "[CV] min_child_weight=6, max_depth=14, reg_alpha=0.453487850813, learning_rate=0.16800328253, n_estimators=108 \n",
      "[CV]  min_child_weight=7, max_depth=4, reg_alpha=1.0235310219, learning_rate=0.0839097543878, n_estimators=226, score=1205.749576 -41.9min\n",
      "[CV] min_child_weight=6, max_depth=14, reg_alpha=0.453487850813, learning_rate=0.16800328253, n_estimators=108 \n",
      "[CV]  min_child_weight=7, max_depth=4, reg_alpha=1.0235310219, learning_rate=0.0839097543878, n_estimators=226, score=1206.166544 -41.3min\n",
      "[CV] min_child_weight=6, max_depth=14, reg_alpha=0.453487850813, learning_rate=0.16800328253, n_estimators=108 \n",
      "[CV]  min_child_weight=6, max_depth=14, reg_alpha=0.453487850813, learning_rate=0.16800328253, n_estimators=108, score=1219.893566 -37.6min\n",
      "[CV] min_child_weight=5, max_depth=11, reg_alpha=2.2051307399e-05, learning_rate=0.0865405422581, n_estimators=159 \n",
      "[CV]  min_child_weight=6, max_depth=14, reg_alpha=0.453487850813, learning_rate=0.16800328253, n_estimators=108, score=1215.080895 -37.2min\n",
      "[CV] min_child_weight=5, max_depth=11, reg_alpha=2.2051307399e-05, learning_rate=0.0865405422581, n_estimators=159 \n",
      "[CV]  min_child_weight=6, max_depth=14, reg_alpha=0.453487850813, learning_rate=0.16800328253, n_estimators=108, score=1207.695510 -36.9min\n",
      "[CV] min_child_weight=5, max_depth=11, reg_alpha=2.2051307399e-05, learning_rate=0.0865405422581, n_estimators=159 \n",
      "[CV]  min_child_weight=5, max_depth=11, reg_alpha=2.2051307399e-05, learning_rate=0.0865405422581, n_estimators=159, score=1194.732363 -46.3min\n",
      "[CV] min_child_weight=6, max_depth=6, reg_alpha=2.2051307399e-05, learning_rate=0.131709653538, n_estimators=270 \n",
      "[CV]  min_child_weight=5, max_depth=11, reg_alpha=2.2051307399e-05, learning_rate=0.0865405422581, n_estimators=159, score=1190.888928 -46.3min\n",
      "[CV] min_child_weight=6, max_depth=6, reg_alpha=2.2051307399e-05, learning_rate=0.131709653538, n_estimators=270 \n",
      "[CV]  min_child_weight=5, max_depth=11, reg_alpha=2.2051307399e-05, learning_rate=0.0865405422581, n_estimators=159, score=1186.366586 -46.5min\n",
      "[CV] min_child_weight=6, max_depth=6, reg_alpha=2.2051307399e-05, learning_rate=0.131709653538, n_estimators=270 \n",
      "[CV]  min_child_weight=6, max_depth=6, reg_alpha=2.2051307399e-05, learning_rate=0.131709653538, n_estimators=270, score=1193.009077 -56.1min\n",
      "[CV] min_child_weight=8, max_depth=3, reg_alpha=1.62975083462e-06, learning_rate=0.0186378682834, n_estimators=91 \n",
      "[CV]  min_child_weight=6, max_depth=6, reg_alpha=2.2051307399e-05, learning_rate=0.131709653538, n_estimators=270, score=1189.275210 -56.5min\n",
      "[CV] min_child_weight=8, max_depth=3, reg_alpha=1.62975083462e-06, learning_rate=0.0186378682834, n_estimators=91 \n",
      "[CV]  min_child_weight=6, max_depth=6, reg_alpha=2.2051307399e-05, learning_rate=0.131709653538, n_estimators=270, score=1189.304956 -57.0min\n",
      "[CV] min_child_weight=8, max_depth=3, reg_alpha=1.62975083462e-06, learning_rate=0.0186378682834, n_estimators=91 \n",
      "[CV]  min_child_weight=8, max_depth=3, reg_alpha=1.62975083462e-06, learning_rate=0.0186378682834, n_estimators=91, score=1392.472024 -15.2min\n",
      "[CV] min_child_weight=2, max_depth=12, reg_alpha=0.0040370172586, learning_rate=0.18122279975, n_estimators=202 \n",
      "[CV]  min_child_weight=8, max_depth=3, reg_alpha=1.62975083462e-06, learning_rate=0.0186378682834, n_estimators=91, score=1398.250283 -15.2min\n",
      "[CV] min_child_weight=2, max_depth=12, reg_alpha=0.0040370172586, learning_rate=0.18122279975, n_estimators=202 \n",
      "[CV]  min_child_weight=8, max_depth=3, reg_alpha=1.62975083462e-06, learning_rate=0.0186378682834, n_estimators=91, score=1394.790051 -14.7min\n",
      "[CV] min_child_weight=2, max_depth=12, reg_alpha=0.0040370172586, learning_rate=0.18122279975, n_estimators=202 \n",
      "[CV]  min_child_weight=2, max_depth=12, reg_alpha=0.0040370172586, learning_rate=0.18122279975, n_estimators=202, score=1219.213333 -63.8min\n",
      "[CV]  min_child_weight=2, max_depth=12, reg_alpha=0.0040370172586, learning_rate=0.18122279975, n_estimators=202, score=1221.980823 -61.9min\n",
      "[CV]  min_child_weight=2, max_depth=12, reg_alpha=0.0040370172586, learning_rate=0.18122279975, n_estimators=202, score=1210.030019 -61.3min\n"
     ]
    },
    {
     "name": "stderr",
     "output_type": "stream",
     "text": [
      "[Parallel(n_jobs=-2)]: Done  60 out of  60 | elapsed: 1066.6min finished\n"
     ]
    },
    {
     "data": {
      "text/plain": [
       "RandomizedSearchCV(cv=None, error_score='raise',\n",
       "          estimator=XGBRegressor(base_score=0.5, colsample_bylevel=1, colsample_bytree=1, gamma=0,\n",
       "       learning_rate=0.1, max_delta_step=0, max_depth=3,\n",
       "       min_child_weight=1, missing=None, n_estimators=100, nthread=1,\n",
       "       objective='reg:linear', reg_alpha=0, reg_lambda=1,\n",
       "       scale_pos_weight=1, seed=0, silent=True, subsample=1),\n",
       "          fit_params={}, iid=True, n_iter=20, n_jobs=-2,\n",
       "          param_distributions={'n_estimators': <scipy.stats._distn_infrastructure.rv_frozen object at 0x116826c18>, 'min_child_weight': <scipy.stats._distn_infrastructure.rv_frozen object at 0x115e2c668>, 'reg_alpha': array([  1.00000e-06,   1.17681e-06, ...,   8.49753e+00,   1.00000e+01]), 'learning_rate': <scipy.stats._distn_infrastructure.rv_frozen object at 0x116826898>, 'max_depth': <scipy.stats._distn_infrastructure.rv_frozen object at 0x116826518>},\n",
       "          pre_dispatch='2*n_jobs', random_state=None, refit=True,\n",
       "          scoring=make_scorer(mean_absolute_error), verbose=4)"
      ]
     },
     "execution_count": 60,
     "metadata": {},
     "output_type": "execute_result"
    }
   ],
   "source": [
    "boostingRandCV.fit(trainStd_X, train_y)"
   ]
  },
  {
   "cell_type": "code",
   "execution_count": null,
   "metadata": {
    "collapsed": false
   },
   "outputs": [],
   "source": [
    "testModel = XGBRegressor(max_depth=15,learning_rate=0.1,\n",
    "                         n_estimators=1000)\n",
    "from sklearn.model_selection import cross_val_score\n",
    "score = cross_val_score(testModel, trainStd_X, train_y, scoring=scoring, n_jobs=-2)"
   ]
  },
  {
   "cell_type": "code",
   "execution_count": 63,
   "metadata": {
    "collapsed": false
   },
   "outputs": [
    {
     "data": {
      "text/plain": [
       "array([ 0.53694975,  0.53889455,  0.54976885])"
      ]
     },
     "execution_count": 63,
     "metadata": {},
     "output_type": "execute_result"
    }
   ],
   "source": [
    "score"
   ]
  },
  {
   "cell_type": "code",
   "execution_count": null,
   "metadata": {
    "collapsed": false
   },
   "outputs": [
    {
     "name": "stdout",
     "output_type": "stream",
     "text": [
      "Fitting 3 folds for each of 20 candidates, totalling 60 fits\n",
      "[CV] reg_alpha=0.00559081018251, max_depth=12, learning_rate=0.0425255446743, n_estimators=619 \n",
      "[CV] reg_alpha=0.00559081018251, max_depth=12, learning_rate=0.0425255446743, n_estimators=619 \n",
      "[CV] reg_alpha=0.00559081018251, max_depth=12, learning_rate=0.0425255446743, n_estimators=619 \n"
     ]
    }
   ],
   "source": [
    "# parameters\n",
    "eta = stats.distributions.uniform(loc=.01, scale=.2)\n",
    "alphas = np.logspace(-6,1,num=100)\n",
    "depth = stats.randint(low=2, high=15)\n",
    "n_estimators = stats.randint(500,1500)\n",
    "\n",
    "#param dict\n",
    "param_distribution = {'max_depth': depth,\n",
    "                      'learning_rate': eta,\n",
    "                      'n_estimators':n_estimators,\n",
    "                      'reg_alpha':alphas}\n",
    "\n",
    "# run algo\n",
    "boostingRandCV2 = RandomizedSearchCV(XGBRegressor(nthread=1),param_distributions=param_distribution,\n",
    "                                    n_jobs=-2, verbose=4,n_iter=20,scoring=scoring)\n",
    "boostingRandCV2.fit(trainStd_X, train_y)"
   ]
  },
  {
   "cell_type": "code",
   "execution_count": null,
   "metadata": {
    "collapsed": true
   },
   "outputs": [],
   "source": []
  }
 ],
 "metadata": {
  "kernelspec": {
   "display_name": "Python [conda root]",
   "language": "python",
   "name": "conda-root-py"
  },
  "language_info": {
   "codemirror_mode": {
    "name": "ipython",
    "version": 3
   },
   "file_extension": ".py",
   "mimetype": "text/x-python",
   "name": "python",
   "nbconvert_exporter": "python",
   "pygments_lexer": "ipython3",
   "version": "3.5.2"
  }
 },
 "nbformat": 4,
 "nbformat_minor": 1
}
